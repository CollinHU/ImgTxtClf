{
 "cells": [
  {
   "cell_type": "code",
   "execution_count": 194,
   "metadata": {
    "collapsed": true
   },
   "outputs": [],
   "source": [
    "import pandas as pd\n",
    "import ast\n",
    "import re\n",
    "import numpy as np"
   ]
  },
  {
   "cell_type": "code",
   "execution_count": 4,
   "metadata": {
    "collapsed": false
   },
   "outputs": [
    {
     "data": {
      "text/html": [
       "<div>\n",
       "<table border=\"1\" class=\"dataframe\">\n",
       "  <thead>\n",
       "    <tr style=\"text-align: right;\">\n",
       "      <th></th>\n",
       "      <th>text_name</th>\n",
       "      <th>category_id</th>\n",
       "      <th>pred_label</th>\n",
       "    </tr>\n",
       "  </thead>\n",
       "  <tbody>\n",
       "    <tr>\n",
       "      <th>0</th>\n",
       "      <td>hot_dog_786</td>\n",
       "      <td>55</td>\n",
       "      <td>[55 47 61 41 46]</td>\n",
       "    </tr>\n",
       "    <tr>\n",
       "      <th>1</th>\n",
       "      <td>hot_dog_581</td>\n",
       "      <td>55</td>\n",
       "      <td>[55 45 12 13 94]</td>\n",
       "    </tr>\n",
       "    <tr>\n",
       "      <th>2</th>\n",
       "      <td>hot_dog_560</td>\n",
       "      <td>55</td>\n",
       "      <td>[55 78  3  4 28]</td>\n",
       "    </tr>\n",
       "    <tr>\n",
       "      <th>3</th>\n",
       "      <td>hot_dog_859</td>\n",
       "      <td>55</td>\n",
       "      <td>[55 16  3 49  4]</td>\n",
       "    </tr>\n",
       "    <tr>\n",
       "      <th>4</th>\n",
       "      <td>hot_dog_424</td>\n",
       "      <td>55</td>\n",
       "      <td>[55 57 16 48 78]</td>\n",
       "    </tr>\n",
       "  </tbody>\n",
       "</table>\n",
       "</div>"
      ],
      "text/plain": [
       "     text_name  category_id        pred_label\n",
       "0  hot_dog_786           55  [55 47 61 41 46]\n",
       "1  hot_dog_581           55  [55 45 12 13 94]\n",
       "2  hot_dog_560           55  [55 78  3  4 28]\n",
       "3  hot_dog_859           55  [55 16  3 49  4]\n",
       "4  hot_dog_424           55  [55 57 16 48 78]"
      ]
     },
     "execution_count": 4,
     "metadata": {},
     "output_type": "execute_result"
    }
   ],
   "source": [
    "txt_train = pd.read_csv('/Users/collin/Desktop/experiment_img_txt-master/text_prcoess/NN_clf/train_pred.csv',index_col = 0)\n",
    "txt_val = pd.read_csv('/Users/collin/Desktop/experiment_img_txt-master/text_prcoess/NN_clf/val_pred.csv',index_col = 0)\n",
    "txt_test  = pd.read_csv('/Users/collin/Desktop/experiment_img_txt-master/text_prcoess/NN_clf/test_pred.csv',index_col = 0)\n",
    "txt_train.head()"
   ]
  },
  {
   "cell_type": "code",
   "execution_count": 8,
   "metadata": {
    "collapsed": false
   },
   "outputs": [
    {
     "data": {
      "text/html": [
       "<div>\n",
       "<table border=\"1\" class=\"dataframe\">\n",
       "  <thead>\n",
       "    <tr style=\"text-align: right;\">\n",
       "      <th></th>\n",
       "      <th>img</th>\n",
       "      <th>pred</th>\n",
       "    </tr>\n",
       "  </thead>\n",
       "  <tbody>\n",
       "    <tr>\n",
       "      <th>0</th>\n",
       "      <td>cheese_plate_512</td>\n",
       "      <td>[16 13 57  9 19]</td>\n",
       "    </tr>\n",
       "    <tr>\n",
       "      <th>1</th>\n",
       "      <td>cheese_plate_709</td>\n",
       "      <td>[16 19 46 48 99]</td>\n",
       "    </tr>\n",
       "    <tr>\n",
       "      <th>2</th>\n",
       "      <td>cheese_plate_542</td>\n",
       "      <td>[16  6 46 32 47]</td>\n",
       "    </tr>\n",
       "    <tr>\n",
       "      <th>3</th>\n",
       "      <td>cheese_plate_97</td>\n",
       "      <td>[16 17 57 51 19]</td>\n",
       "    </tr>\n",
       "    <tr>\n",
       "      <th>4</th>\n",
       "      <td>cheese_plate_175</td>\n",
       "      <td>[16 82 46 57 50]</td>\n",
       "    </tr>\n",
       "  </tbody>\n",
       "</table>\n",
       "</div>"
      ],
      "text/plain": [
       "                img              pred\n",
       "0  cheese_plate_512  [16 13 57  9 19]\n",
       "1  cheese_plate_709  [16 19 46 48 99]\n",
       "2  cheese_plate_542  [16  6 46 32 47]\n",
       "3   cheese_plate_97  [16 17 57 51 19]\n",
       "4  cheese_plate_175  [16 82 46 57 50]"
      ]
     },
     "execution_count": 8,
     "metadata": {},
     "output_type": "execute_result"
    }
   ],
   "source": [
    "img_train = pd.read_csv('/Users/collin/Desktop/experiment_img_txt-master/image_process/result/img_train_pred.csv',index_col = 0)\n",
    "img_test = pd.read_csv('/Users/collin/Desktop/experiment_img_txt-master/image_process/result/img_test_pred.csv',index_col = 0)\n",
    "img_val = pd.read_csv('/Users/collin/Desktop/experiment_img_txt-master/image_process/result/img_val_pred.csv',index_col = 0)\n",
    "img_train.head()"
   ]
  },
  {
   "cell_type": "code",
   "execution_count": 154,
   "metadata": {
    "collapsed": false
   },
   "outputs": [
    {
     "data": {
      "text/plain": [
       "60185"
      ]
     },
     "execution_count": 154,
     "metadata": {},
     "output_type": "execute_result"
    }
   ],
   "source": [
    "train = img_train.merge(txt_train, left_on = 'img', right_on = 'text_name')\n",
    "val = img_val.merge(txt_val, left_on = 'img', right_on = 'text_name')\n",
    "test = img_test.merge(txt_test, left_on = 'img', right_on = 'text_name')\n",
    "train= train.dropna()\n",
    "len(train)"
   ]
  },
  {
   "cell_type": "code",
   "execution_count": 336,
   "metadata": {
    "collapsed": true
   },
   "outputs": [],
   "source": [
    "def ensemble(pred, pred_label):\n",
    "    size = len(pred)\n",
    "    result = []\n",
    "    for i in range(size):\n",
    "        d1 = {}\n",
    "        d2 = {}\n",
    "        for j in range(5):\n",
    "            d1[pred[i][j]] = 5 - j \n",
    "        for j in range(5):\n",
    "            d2[pred_label[i][j]] = 5 - j + 1/(j+1)\n",
    "        for key in d2.keys():\n",
    "            d1[key] = d1.get(key,0) + d2[key]\n",
    "        sorted_x = sorted(d1.items(), key=operator.itemgetter(1))\n",
    "        result.append(sorted_x[-1][0])\n",
    "    return np.array(result)"
   ]
  },
  {
   "cell_type": "code",
   "execution_count": 319,
   "metadata": {
    "collapsed": false
   },
   "outputs": [],
   "source": [
    "def translate_list(str_list):\n",
    "    str_list = re.sub(r'\\[\\s+', '[', str_list)\n",
    "    return re.sub('\\s+', ',', str_list)"
   ]
  },
  {
   "cell_type": "code",
   "execution_count": 320,
   "metadata": {
    "collapsed": false
   },
   "outputs": [
    {
     "data": {
      "text/html": [
       "<div>\n",
       "<table border=\"1\" class=\"dataframe\">\n",
       "  <thead>\n",
       "    <tr style=\"text-align: right;\">\n",
       "      <th></th>\n",
       "      <th>img</th>\n",
       "      <th>pred</th>\n",
       "      <th>text_name</th>\n",
       "      <th>category_id</th>\n",
       "      <th>pred_label</th>\n",
       "    </tr>\n",
       "  </thead>\n",
       "  <tbody>\n",
       "    <tr>\n",
       "      <th>0</th>\n",
       "      <td>cheese_plate_512</td>\n",
       "      <td>[16,13,57,9,19]</td>\n",
       "      <td>cheese_plate_512</td>\n",
       "      <td>16</td>\n",
       "      <td>[16,28,3,10,4]</td>\n",
       "    </tr>\n",
       "  </tbody>\n",
       "</table>\n",
       "</div>"
      ],
      "text/plain": [
       "                img             pred         text_name  category_id  \\\n",
       "0  cheese_plate_512  [16,13,57,9,19]  cheese_plate_512           16   \n",
       "\n",
       "       pred_label  \n",
       "0  [16,28,3,10,4]  "
      ]
     },
     "execution_count": 320,
     "metadata": {},
     "output_type": "execute_result"
    }
   ],
   "source": [
    "train['pred'] = train['pred'].apply(translate_list)\n",
    "train['pred_label'] = train['pred_label'].apply(translate_list)\n",
    "train.head(1)"
   ]
  },
  {
   "cell_type": "code",
   "execution_count": 321,
   "metadata": {
    "collapsed": false
   },
   "outputs": [],
   "source": [
    "train_pred = [ast.literal_eval(item) for item in train['pred'].values]\n",
    "train_pred_label = [ast.literal_eval(item) for item in train['pred_label'].values]"
   ]
  },
  {
   "cell_type": "code",
   "execution_count": 322,
   "metadata": {
    "collapsed": false
   },
   "outputs": [
    {
     "name": "stdout",
     "output_type": "stream",
     "text": [
      "(60185,)\n"
     ]
    },
    {
     "data": {
      "text/plain": [
       "0.96286450112154187"
      ]
     },
     "execution_count": 322,
     "metadata": {},
     "output_type": "execute_result"
    }
   ],
   "source": [
    "result = ensemble(train_pred, train_pred_label)\n",
    "label = train['category_id'].values\n",
    "print(result.shape)\n",
    "np.mean(label == result)"
   ]
  },
  {
   "cell_type": "code",
   "execution_count": 323,
   "metadata": {
    "collapsed": false
   },
   "outputs": [
    {
     "data": {
      "text/plain": [
       "0.96286450112154187"
      ]
     },
     "execution_count": 323,
     "metadata": {},
     "output_type": "execute_result"
    }
   ],
   "source": [
    "label = train['category_id'].values\n",
    "np.mean(label == result)"
   ]
  },
  {
   "cell_type": "code",
   "execution_count": 324,
   "metadata": {
    "collapsed": false
   },
   "outputs": [],
   "source": [
    "val['pred'] = val['pred'].apply(translate_list)\n",
    "val['pred_label'] = val['pred_label'].apply(translate_list)\n",
    "val_pred = [ast.literal_eval(item) for item in val['pred'].values]\n",
    "val_pred_label = [ast.literal_eval(item) for item in val['pred_label'].values]"
   ]
  },
  {
   "cell_type": "code",
   "execution_count": 338,
   "metadata": {
    "collapsed": false
   },
   "outputs": [
    {
     "name": "stdout",
     "output_type": "stream",
     "text": [
      "[62  8 16 ..., 55 69 55]\n"
     ]
    },
    {
     "data": {
      "text/plain": [
       "0.80540835411471323"
      ]
     },
     "execution_count": 338,
     "metadata": {},
     "output_type": "execute_result"
    }
   ],
   "source": [
    "result = ensemble(val_pred, val_pred_label)\n",
    "print(result)\n",
    "label = val['category_id'].values\n",
    "np.mean(label == result)"
   ]
  },
  {
   "cell_type": "code",
   "execution_count": 337,
   "metadata": {
    "collapsed": false
   },
   "outputs": [
    {
     "name": "stdout",
     "output_type": "stream",
     "text": [
      "[36 16 16 ..., 55 55 55]\n"
     ]
    },
    {
     "data": {
      "text/plain": [
       "0.80186335403726705"
      ]
     },
     "execution_count": 337,
     "metadata": {},
     "output_type": "execute_result"
    }
   ],
   "source": [
    "test['pred'] = test['pred'].apply(translate_list)\n",
    "test['pred_label'] = test['pred_label'].apply(translate_list)\n",
    "pred = [ast.literal_eval(item) for item in test['pred'].values]\n",
    "pred_label = [ast.literal_eval(item) for item in test['pred_label'].values]\n",
    "result = ensemble(pred, pred_label)\n",
    "print(result)\n",
    "label = test['category_id'].values\n",
    "np.mean(label == result)"
   ]
  },
  {
   "cell_type": "code",
   "execution_count": null,
   "metadata": {
    "collapsed": true
   },
   "outputs": [],
   "source": []
  }
 ],
 "metadata": {
  "kernelspec": {
   "display_name": "Python 3",
   "language": "python",
   "name": "python3"
  },
  "language_info": {
   "codemirror_mode": {
    "name": "ipython",
    "version": 3
   },
   "file_extension": ".py",
   "mimetype": "text/x-python",
   "name": "python",
   "nbconvert_exporter": "python",
   "pygments_lexer": "ipython3",
   "version": "3.6.0"
  }
 },
 "nbformat": 4,
 "nbformat_minor": 1
}
